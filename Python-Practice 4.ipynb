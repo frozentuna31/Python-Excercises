{
 "cells": [
  {
   "cell_type": "markdown",
   "metadata": {},
   "source": [
    "# Python Assignment 4"
   ]
  },
  {
   "cell_type": "markdown",
   "metadata": {},
   "source": [
    "### Problem :"
   ]
  },
  {
   "cell_type": "markdown",
   "metadata": {},
   "source": [
    "1.1 Write a Python Program(with class concepts) to find the area of the triangle using the below\n",
    "formula. <br/>\n",
    "area = (s*(s-a)*(s-b)*(s-c)) ** 0.5 <br/>\n",
    "Function to take the length of the sides of triangle from user should be defined in the parent <br/>\n",
    "class and function to calculate the area should be defined in subclass.\n"
   ]
  },
  {
   "cell_type": "markdown",
   "metadata": {},
   "source": [
    "1.2 Write a function filter_long_words() that takes a list of words and an integer n and returns\n",
    "the list of words that are longer than n."
   ]
  },
  {
   "cell_type": "markdown",
   "metadata": {},
   "source": [
    "2.1 Write a Python program using function concept that maps list of words into a list of integers\n",
    "representing the lengths of the corresponding words. <br/><br/>\n",
    "Hint: If a list [ ab,cde,erty] is passed on to the python function output should come as [2,3,4] <br/><br/>\n",
    "Here 2,3 and 4 are the lengths of the words in the list"
   ]
  },
  {
   "cell_type": "markdown",
   "metadata": {},
   "source": [
    "2.2 Write a Python function which takes a character (i.e. a string of length 1) and returns True if\n",
    "it is a vowel, False otherwise."
   ]
  },
  {
   "cell_type": "markdown",
   "metadata": {},
   "source": [
    "### Answer :"
   ]
  },
  {
   "cell_type": "markdown",
   "metadata": {},
   "source": [
    "1.1"
   ]
  },
  {
   "cell_type": "code",
   "execution_count": 1,
   "metadata": {},
   "outputs": [],
   "source": [
    "#Problem 1.1\n",
    "\n",
    "class Side_Triangle:\n",
    "    def __init__(self):\n",
    "        self.side_a = int(input(\"Give me side a:\"))\n",
    "        self.side_b = int(input(\"Give me side b:\"))\n",
    "        self.side_c = int(input(\"Give me side c:\"))\n",
    "         \n",
    "class Area_Triangle(Side_Triangle):\n",
    "    \n",
    "    def Area(self):\n",
    "        s    = (self.side_a+self.side_b+self.side_c)/2\n",
    "        area = (s*(s-self.side_a)*(s-self.side_b)*(s-self.side_c))**0.5\n",
    "        \n",
    "        print('Area of the triangle is {0:.{1}f}cm\\u00b2'.format(area, 3))\n",
    "        #print('Area of the triangle is '+str(area)+' cm\\u00b2')\n"
   ]
  },
  {
   "cell_type": "code",
   "execution_count": 3,
   "metadata": {},
   "outputs": [
    {
     "name": "stdout",
     "output_type": "stream",
     "text": [
      "Give me side a:5\n",
      "Give me side b:7\n",
      "Give me side c:8\n",
      "Area of the triangle is 17.321cm²\n"
     ]
    }
   ],
   "source": [
    "my_tri = Area_Triangle()\n",
    "my_tri.Area()"
   ]
  },
  {
   "cell_type": "markdown",
   "metadata": {},
   "source": [
    "1.2"
   ]
  },
  {
   "cell_type": "code",
   "execution_count": 4,
   "metadata": {},
   "outputs": [],
   "source": [
    "#Problem 1.2\n",
    "def filter_long_words(lst, num): \n",
    "    new_word = []\n",
    "    for i in lst:\n",
    "        if len(i) > num:\n",
    "            new_word.append(i)\n",
    "    return new_word "
   ]
  },
  {
   "cell_type": "code",
   "execution_count": 5,
   "metadata": {},
   "outputs": [
    {
     "data": {
      "text/plain": [
       "['supernatural', 'computer', 'fantastic']"
      ]
     },
     "execution_count": 5,
     "metadata": {},
     "output_type": "execute_result"
    }
   ],
   "source": [
    "word = ['dog', 'cat', 'supernatural', 'glass', 'computer', 'fantastic']\n",
    "filter_long_words(word, 5) "
   ]
  },
  {
   "cell_type": "markdown",
   "metadata": {},
   "source": [
    " 2.1"
   ]
  },
  {
   "cell_type": "code",
   "execution_count": 18,
   "metadata": {},
   "outputs": [],
   "source": [
    "#problem 2.1\n",
    "\n",
    "def lengths_corresponding_words(list):\n",
    "    lengths = [0 for i in range(len(list))]\n",
    "    for i in range(len(list)):\n",
    "        \n",
    "        lengths[i] = len(list[i])\n",
    "    return lengths"
   ]
  },
  {
   "cell_type": "code",
   "execution_count": 19,
   "metadata": {},
   "outputs": [
    {
     "data": {
      "text/plain": [
       "[9, 5, 8, 7]"
      ]
     },
     "execution_count": 19,
     "metadata": {},
     "output_type": "execute_result"
    }
   ],
   "source": [
    "my_lenghts = ['tangerang', 'depok', 'makassar', 'jakarta']\n",
    "lengths_corresponding_words(my_lenghts)"
   ]
  },
  {
   "cell_type": "code",
   "execution_count": 29,
   "metadata": {},
   "outputs": [],
   "source": [
    "#Problrm 2.2\n",
    "def vowel(list):\n",
    "    vowels = ['a', 'i', 'u', 'e', 'o']\n",
    "    truth = []\n",
    "    for i in range(len(list)):\n",
    "        for j in vowels:\n",
    "            if list[i] == j:\n",
    "                truth.append(list[i])\n",
    "    return truth \n",
    "    "
   ]
  },
  {
   "cell_type": "code",
   "execution_count": 30,
   "metadata": {},
   "outputs": [
    {
     "data": {
      "text/plain": [
       "['a', 'e']"
      ]
     },
     "execution_count": 30,
     "metadata": {},
     "output_type": "execute_result"
    }
   ],
   "source": [
    "a = ['a', 'b', 'c', 'd', 'e']\n",
    "vowel(a)"
   ]
  },
  {
   "cell_type": "code",
   "execution_count": null,
   "metadata": {},
   "outputs": [],
   "source": []
  }
 ],
 "metadata": {
  "kernelspec": {
   "display_name": "Python 3",
   "language": "python",
   "name": "python3"
  },
  "language_info": {
   "codemirror_mode": {
    "name": "ipython",
    "version": 3
   },
   "file_extension": ".py",
   "mimetype": "text/x-python",
   "name": "python",
   "nbconvert_exporter": "python",
   "pygments_lexer": "ipython3",
   "version": "3.8.3"
  }
 },
 "nbformat": 4,
 "nbformat_minor": 4
}
