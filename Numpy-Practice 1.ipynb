{
 "cells": [
  {
   "cell_type": "markdown",
   "metadata": {},
   "source": [
    "# Numpy Exercise"
   ]
  },
  {
   "cell_type": "markdown",
   "metadata": {},
   "source": [
    "### Problem :"
   ]
  },
  {
   "cell_type": "markdown",
   "metadata": {},
   "source": [
    "1. Write a function so that the columns of the output matrix are powers of the input vector. <br> </br><br> </br>\n",
    "The order of the powers is determined by the increasing boolean argument. Specifically, when\n",
    "increasing is False, the i-th output column is the input vector raised element-wise to the power\n",
    "of N - i - 1.<br> </br> <br> </br>\n",
    "HINT: Such a matrix with a geometric progression in each row is named for AlexandreTheophile Vandermonde.\n",
    "\n"
   ]
  },
  {
   "cell_type": "markdown",
   "metadata": {},
   "source": [
    "2. \n"
   ]
  },
  {
   "cell_type": "markdown",
   "metadata": {},
   "source": [
    "**Problem Statement**\n",
    "\n",
    "Given a sequence of n values x1, x2, ..., xn and a window size k>0, the k-th moving average of\n",
    "the given sequence is defined as follows: <br> </br><br> </br>\n",
    "\n",
    "The moving average sequence has n-k+1 elements as shown below. <br> </br><br> </br>\n",
    "\n",
    "The moving averages with k=4 of a ten-value sequence (n=10) is shown below: <br> </br><br> </br>\n",
    "i 1 2 3 4 5 6 7 8 9 10<br> </br>\n",
    "===== == == == == == == == == == ==<br> </br>\n",
    "Input 10 20 30 40 50 60 70 80 90 100<br> </br>\n",
    "y1 25 = (10+20+30+40)/4<br> </br>\n",
    "y2 35 = (20+30+40+50)/4<br> </br>\n",
    "y3 45 = (30+40+50+60)/4<br> </br>\n",
    "y4 55 = (40+50+60+70)/4<br> </br>\n",
    "y5 65 = (50+60+70+80)/4<br> </br>\n",
    "y6 75 = (60+70+80+90)/4<br> </br>\n",
    "y7 85 = (70+80+90+100)/4<br> </br><br> </br>\n",
    "\n",
    "Thus, the moving average sequence has n-k+1=10-4+1=7 values.<br> </br>"
   ]
  },
  {
   "cell_type": "markdown",
   "metadata": {},
   "source": [
    "**Question** <br> </br>\n",
    "Write a function to find moving average in an array over a window: <br> </br>\n",
    "Test it over [3, 5, 7, 2, 8, 10, 11, 65, 72, 81, 99, 100, 150] and window of 3.\n"
   ]
  },
  {
   "cell_type": "markdown",
   "metadata": {},
   "source": [
    "### Answer :"
   ]
  },
  {
   "cell_type": "code",
   "execution_count": 5,
   "metadata": {},
   "outputs": [],
   "source": [
    "import numpy as np"
   ]
  },
  {
   "cell_type": "code",
   "execution_count": 23,
   "metadata": {},
   "outputs": [],
   "source": [
    "#Problem 1\n",
    "\n",
    "def vander(x, increasing = True):\n",
    "    N = len(x)\n",
    "    if increasing == True :\n",
    "        my_matrix = np.array([i**j for i in x for j in range(N)]).reshape(N,N)\n",
    "    else: \n",
    "        my_matrix = np.array([i**(N - j - 1) for i in x for j in range(N)]).reshape(N,N)\n",
    "    return my_matrix\n",
    "        \n",
    "    "
   ]
  },
  {
   "cell_type": "code",
   "execution_count": 40,
   "metadata": {},
   "outputs": [
    {
     "name": "stdout",
     "output_type": "stream",
     "text": [
      "My array is [1 5 6 7 8].\n",
      " Therefore, the matrix is\n"
     ]
    },
    {
     "data": {
      "text/plain": [
       "array([[   1,    1,    1,    1,    1],\n",
       "       [ 625,  125,   25,    5,    1],\n",
       "       [1296,  216,   36,    6,    1],\n",
       "       [2401,  343,   49,    7,    1],\n",
       "       [4096,  512,   64,    8,    1]])"
      ]
     },
     "execution_count": 40,
     "metadata": {},
     "output_type": "execute_result"
    }
   ],
   "source": [
    "y = np.array([1,5,6,7,8])\n",
    "print(\"My array is {}.\\n Therefore, the matrix is\".format(y))\n",
    "vander(y, increasing = False)"
   ]
  },
  {
   "cell_type": "code",
   "execution_count": 37,
   "metadata": {},
   "outputs": [
    {
     "name": "stdout",
     "output_type": "stream",
     "text": [
      "All the moving averages are: \n",
      "y1 = 4.250\n",
      "y2 = 5.500\n",
      "y3 = 6.750\n",
      "y4 = 7.750\n",
      "y5 = 23.500\n",
      "y6 = 39.500\n",
      "y7 = 57.250\n",
      "y8 = 79.250\n",
      "y9 = 88.000\n",
      "y10 = 107.500\n",
      "Then, the moving average sequence has 10 values\n"
     ]
    }
   ],
   "source": [
    "#Problem 2\n",
    "\n",
    "def mov_avg(seq, k):\n",
    "    n = len(seq)\n",
    "    count = 0\n",
    "    avg = []\n",
    "    print(\"All the moving averages are: \")\n",
    "    for i in range(n-3):\n",
    "        avg_n = (seq[i]+seq[i+1]+seq[i+2]+seq[i+3])/k\n",
    "        count +=1\n",
    "        print(\"y{} = {:.3f}\".format(i+1, avg_n))\n",
    "    print(\"Then, the moving average sequence has %s values\" % str(count))\n",
    "    \n",
    "my_seq = np.array([3, 5, 7, 2, 8, 10, 11, 65, 72, 81, 99, 100, 150])\n",
    "mov_avg(my_seq, 4)"
   ]
  }
 ],
 "metadata": {
  "kernelspec": {
   "display_name": "Python 3",
   "language": "python",
   "name": "python3"
  },
  "language_info": {
   "codemirror_mode": {
    "name": "ipython",
    "version": 3
   },
   "file_extension": ".py",
   "mimetype": "text/x-python",
   "name": "python",
   "nbconvert_exporter": "python",
   "pygments_lexer": "ipython3",
   "version": "3.8.3"
  }
 },
 "nbformat": 4,
 "nbformat_minor": 4
}
